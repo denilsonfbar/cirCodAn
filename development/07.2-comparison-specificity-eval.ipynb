{
 "cells": [
  {
   "cell_type": "code",
   "execution_count": 1,
   "metadata": {},
   "outputs": [],
   "source": [
    "import pandas as pd\n",
    "\n",
    "results_file_path = 'results/07.tsv'"
   ]
  },
  {
   "cell_type": "code",
   "execution_count": 2,
   "metadata": {},
   "outputs": [
    {
     "data": {
      "text/html": [
       "<div>\n",
       "<style scoped>\n",
       "    .dataframe tbody tr th:only-of-type {\n",
       "        vertical-align: middle;\n",
       "    }\n",
       "\n",
       "    .dataframe tbody tr th {\n",
       "        vertical-align: top;\n",
       "    }\n",
       "\n",
       "    .dataframe thead th {\n",
       "        text-align: right;\n",
       "    }\n",
       "</style>\n",
       "<table border=\"1\" class=\"dataframe\">\n",
       "  <thead>\n",
       "    <tr style=\"text-align: right;\">\n",
       "      <th></th>\n",
       "      <th>input_file</th>\n",
       "      <th>tool</th>\n",
       "      <th>model</th>\n",
       "      <th>Specificity_start_seq</th>\n",
       "    </tr>\n",
       "  </thead>\n",
       "  <tbody>\n",
       "    <tr>\n",
       "      <th>0</th>\n",
       "      <td>01_TransCirc_no_evidence_hsa.fa</td>\n",
       "      <td>cirCodAn</td>\n",
       "      <td>VERT_circ</td>\n",
       "      <td>86.75</td>\n",
       "    </tr>\n",
       "    <tr>\n",
       "      <th>1</th>\n",
       "      <td>01_TransCirc_no_evidence_hsa.fa</td>\n",
       "      <td>CodAn</td>\n",
       "      <td>VERT_full</td>\n",
       "      <td>95.77</td>\n",
       "    </tr>\n",
       "    <tr>\n",
       "      <th>3</th>\n",
       "      <td>01_TransCirc_no_evidence_hsa.fa</td>\n",
       "      <td>ORFfinder</td>\n",
       "      <td>NaN</td>\n",
       "      <td>61.07</td>\n",
       "    </tr>\n",
       "    <tr>\n",
       "      <th>4</th>\n",
       "      <td>01_TransCirc_no_evidence_hsa.fa</td>\n",
       "      <td>FragGeneScan</td>\n",
       "      <td>NaN</td>\n",
       "      <td>58.61</td>\n",
       "    </tr>\n",
       "    <tr>\n",
       "      <th>5</th>\n",
       "      <td>01_TransCirc_no_evidence_hsa.fa</td>\n",
       "      <td>CPAT</td>\n",
       "      <td>NaN</td>\n",
       "      <td>73.91</td>\n",
       "    </tr>\n",
       "    <tr>\n",
       "      <th>6</th>\n",
       "      <td>01_TransCirc_no_evidence_hsa.fa</td>\n",
       "      <td>CPC2</td>\n",
       "      <td>NaN</td>\n",
       "      <td>99.32</td>\n",
       "    </tr>\n",
       "  </tbody>\n",
       "</table>\n",
       "</div>"
      ],
      "text/plain": [
       "                        input_file          tool      model  \\\n",
       "0  01_TransCirc_no_evidence_hsa.fa      cirCodAn  VERT_circ   \n",
       "1  01_TransCirc_no_evidence_hsa.fa         CodAn  VERT_full   \n",
       "3  01_TransCirc_no_evidence_hsa.fa     ORFfinder        NaN   \n",
       "4  01_TransCirc_no_evidence_hsa.fa  FragGeneScan        NaN   \n",
       "5  01_TransCirc_no_evidence_hsa.fa          CPAT        NaN   \n",
       "6  01_TransCirc_no_evidence_hsa.fa          CPC2        NaN   \n",
       "\n",
       "   Specificity_start_seq  \n",
       "0                  86.75  \n",
       "1                  95.77  \n",
       "3                  61.07  \n",
       "4                  58.61  \n",
       "5                  73.91  \n",
       "6                  99.32  "
      ]
     },
     "execution_count": 2,
     "metadata": {},
     "output_type": "execute_result"
    }
   ],
   "source": [
    "df_results = pd.read_csv(results_file_path, sep='\\t', header=0)\n",
    "column_names = {'Spec_start_seq':'Specificity_start_seq', 'Spec_full_seq':'Specificity_full_seq'}\n",
    "df_results.rename(columns=column_names, inplace=True)\n",
    "\n",
    "df_results = df_results[df_results['model'] != 'VERT_partial']\n",
    "df_results[['input_file', 'tool', 'model', 'Specificity_start_seq']]"
   ]
  }
 ],
 "metadata": {
  "kernelspec": {
   "display_name": "circodan_dev",
   "language": "python",
   "name": "python3"
  },
  "language_info": {
   "codemirror_mode": {
    "name": "ipython",
    "version": 3
   },
   "file_extension": ".py",
   "mimetype": "text/x-python",
   "name": "python",
   "nbconvert_exporter": "python",
   "pygments_lexer": "ipython3",
   "version": "3.7.16"
  },
  "orig_nbformat": 4
 },
 "nbformat": 4,
 "nbformat_minor": 2
}
