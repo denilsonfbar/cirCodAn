{
 "cells": [
  {
   "cell_type": "markdown",
   "metadata": {},
   "source": [
    "### Creating a dataset with circRNAs with translations evidence by ribosome and polysome binding from TransCirc database"
   ]
  },
  {
   "cell_type": "code",
   "execution_count": 1,
   "metadata": {},
   "outputs": [],
   "source": [
    "import sys\n",
    "sys.path.append('../')\n",
    "\n",
    "from lib import libdata\n",
    "import numpy as np\n",
    "import pandas as pd"
   ]
  },
  {
   "cell_type": "code",
   "execution_count": 2,
   "metadata": {},
   "outputs": [],
   "source": [
    "# Input files\n",
    "transcirc_metadata_file = 'TransCirc/transcirc_metadata.tsv.gz'\n",
    "transcirc_circrnas_file = 'TransCirc/transcirc_sequence.fa.bgz'\n",
    "transcirc_orfs_file = 'TransCirc/transcirc_orf_na.fa.bgz'\n",
    "\n",
    "# Output files\n",
    "circrnas_file = libdata.CIRCODAN_PATH + 'datasets/03_TransCirc_RP_PP_evidence_hsa.fa'\n",
    "gtf_file = libdata.CIRCODAN_PATH + 'datasets/03_TransCirc_RP_PP_evidence_hsa.gtf'"
   ]
  },
  {
   "cell_type": "code",
   "execution_count": 3,
   "metadata": {},
   "outputs": [
    {
     "data": {
      "text/plain": [
       "(328080, 19)"
      ]
     },
     "execution_count": 3,
     "metadata": {},
     "output_type": "execute_result"
    }
   ],
   "source": [
    "# All circRNAs\n",
    "df_tc = pd.read_csv(transcirc_metadata_file, sep='\\t', compression='gzip')\n",
    "df_tc.shape"
   ]
  },
  {
   "cell_type": "code",
   "execution_count": 4,
   "metadata": {},
   "outputs": [
    {
     "data": {
      "text/plain": [
       "(305016, 19)"
      ]
     },
     "execution_count": 4,
     "metadata": {},
     "output_type": "execute_result"
    }
   ],
   "source": [
    "# Removing circRNAs that not have ORF annotation\n",
    "df_tc.drop(df_tc[df_tc['ORF'] == 0].index, axis=0, inplace=True)\n",
    "df_tc.shape"
   ]
  },
  {
   "cell_type": "code",
   "execution_count": 5,
   "metadata": {},
   "outputs": [
    {
     "data": {
      "text/plain": [
       "(4035, 19)"
      ]
     },
     "execution_count": 5,
     "metadata": {},
     "output_type": "execute_result"
    }
   ],
   "source": [
    "# Removing circRNAs that not have RP/PP evidence\n",
    "df_tc.drop(df_tc[(df_tc['RP/RP'] == 0)].index, axis=0, inplace=True)\n",
    "df_tc.shape"
   ]
  },
  {
   "cell_type": "code",
   "execution_count": 6,
   "metadata": {},
   "outputs": [
    {
     "data": {
      "text/plain": [
       "(4033, 19)"
      ]
     },
     "execution_count": 6,
     "metadata": {},
     "output_type": "execute_result"
    }
   ],
   "source": [
    "# Removing circRNAs that have MS evidence\n",
    "df_tc.drop(df_tc[(df_tc['MS'] != 0)].index, axis=0, inplace=True)\n",
    "df_tc.shape"
   ]
  },
  {
   "cell_type": "code",
   "execution_count": 7,
   "metadata": {},
   "outputs": [
    {
     "data": {
      "text/plain": [
       "4033"
      ]
     },
     "execution_count": 7,
     "metadata": {},
     "output_type": "execute_result"
    }
   ],
   "source": [
    "# Creating FASTA file with selected circRNAs\n",
    "circ_ids = np.array(df_tc['TransCirc_ID'])\n",
    "libdata.create_fasta_file_TransCirc(circ_ids, transcirc_circrnas_file, circrnas_file)\n",
    "libdata.count_sequences_in_file(circrnas_file)"
   ]
  },
  {
   "cell_type": "code",
   "execution_count": 8,
   "metadata": {},
   "outputs": [
    {
     "data": {
      "text/plain": [
       "3924"
      ]
     },
     "execution_count": 8,
     "metadata": {},
     "output_type": "execute_result"
    }
   ],
   "source": [
    "# Removing repeated sequences\n",
    "n_unique_seqs = libdata.remove_repeated_sequences_in_file(circrnas_file)\n",
    "n_unique_seqs"
   ]
  },
  {
   "cell_type": "code",
   "execution_count": 9,
   "metadata": {},
   "outputs": [
    {
     "data": {
      "text/html": [
       "<div>\n",
       "<style scoped>\n",
       "    .dataframe tbody tr th:only-of-type {\n",
       "        vertical-align: middle;\n",
       "    }\n",
       "\n",
       "    .dataframe tbody tr th {\n",
       "        vertical-align: top;\n",
       "    }\n",
       "\n",
       "    .dataframe thead th {\n",
       "        text-align: right;\n",
       "    }\n",
       "</style>\n",
       "<table border=\"1\" class=\"dataframe\">\n",
       "  <thead>\n",
       "    <tr style=\"text-align: right;\">\n",
       "      <th></th>\n",
       "      <th>seqname</th>\n",
       "      <th>source</th>\n",
       "      <th>feature</th>\n",
       "      <th>start</th>\n",
       "      <th>end</th>\n",
       "      <th>score</th>\n",
       "      <th>strand</th>\n",
       "      <th>frame</th>\n",
       "      <th>attribute</th>\n",
       "    </tr>\n",
       "  </thead>\n",
       "  <tbody>\n",
       "    <tr>\n",
       "      <th>0</th>\n",
       "      <td>TC-hsa-SDF4_0002</td>\n",
       "      <td>TransCirc v1.0</td>\n",
       "      <td>cORF</td>\n",
       "      <td>41</td>\n",
       "      <td>11</td>\n",
       "      <td>.</td>\n",
       "      <td>+</td>\n",
       "      <td>1</td>\n",
       "      <td>translation_cycles=1;length=222</td>\n",
       "    </tr>\n",
       "    <tr>\n",
       "      <th>1</th>\n",
       "      <td>TC-hsa-SDF4_0002</td>\n",
       "      <td>TransCirc v1.0</td>\n",
       "      <td>cORF</td>\n",
       "      <td>204</td>\n",
       "      <td>18</td>\n",
       "      <td>.</td>\n",
       "      <td>+</td>\n",
       "      <td>2</td>\n",
       "      <td>translation_cycles=1;length=66</td>\n",
       "    </tr>\n",
       "    <tr>\n",
       "      <th>2</th>\n",
       "      <td>TC-hsa-NADK_0011</td>\n",
       "      <td>TransCirc v1.0</td>\n",
       "      <td>cORF</td>\n",
       "      <td>41</td>\n",
       "      <td>40</td>\n",
       "      <td>.</td>\n",
       "      <td>+</td>\n",
       "      <td>1</td>\n",
       "      <td>translation_cycles=3;length=909</td>\n",
       "    </tr>\n",
       "    <tr>\n",
       "      <th>3</th>\n",
       "      <td>TC-hsa-USP48_0035</td>\n",
       "      <td>TransCirc v1.0</td>\n",
       "      <td>cORF</td>\n",
       "      <td>184</td>\n",
       "      <td>58</td>\n",
       "      <td>.</td>\n",
       "      <td>+</td>\n",
       "      <td>0</td>\n",
       "      <td>translation_cycles=1;length=87</td>\n",
       "    </tr>\n",
       "    <tr>\n",
       "      <th>4</th>\n",
       "      <td>TC-hsa-USP48_0035</td>\n",
       "      <td>TransCirc v1.0</td>\n",
       "      <td>cORF</td>\n",
       "      <td>111</td>\n",
       "      <td>111</td>\n",
       "      <td>.</td>\n",
       "      <td>+</td>\n",
       "      <td>2</td>\n",
       "      <td>translation_cycles=1;length=213</td>\n",
       "    </tr>\n",
       "    <tr>\n",
       "      <th>...</th>\n",
       "      <td>...</td>\n",
       "      <td>...</td>\n",
       "      <td>...</td>\n",
       "      <td>...</td>\n",
       "      <td>...</td>\n",
       "      <td>...</td>\n",
       "      <td>...</td>\n",
       "      <td>...</td>\n",
       "      <td>...</td>\n",
       "    </tr>\n",
       "    <tr>\n",
       "      <th>5508</th>\n",
       "      <td>TC-hsa-DKC1_0007</td>\n",
       "      <td>TransCirc v1.0</td>\n",
       "      <td>cORF</td>\n",
       "      <td>87</td>\n",
       "      <td>15</td>\n",
       "      <td>.</td>\n",
       "      <td>+</td>\n",
       "      <td>2</td>\n",
       "      <td>translation_cycles=1;length=204</td>\n",
       "    </tr>\n",
       "    <tr>\n",
       "      <th>5509</th>\n",
       "      <td>TC-hsa-MPP1_0012</td>\n",
       "      <td>TransCirc v1.0</td>\n",
       "      <td>cORF</td>\n",
       "      <td>37</td>\n",
       "      <td>36</td>\n",
       "      <td>.</td>\n",
       "      <td>+</td>\n",
       "      <td>0</td>\n",
       "      <td>translation_cycles=3;length=1134</td>\n",
       "    </tr>\n",
       "    <tr>\n",
       "      <th>5510</th>\n",
       "      <td>TC-hsa-UTP14A_0010</td>\n",
       "      <td>TransCirc v1.0</td>\n",
       "      <td>cORF</td>\n",
       "      <td>119</td>\n",
       "      <td>17</td>\n",
       "      <td>.</td>\n",
       "      <td>+</td>\n",
       "      <td>1</td>\n",
       "      <td>translation_cycles=1;length=495</td>\n",
       "    </tr>\n",
       "    <tr>\n",
       "      <th>5511</th>\n",
       "      <td>TC-hsa-UTP14A_0010</td>\n",
       "      <td>TransCirc v1.0</td>\n",
       "      <td>cORF</td>\n",
       "      <td>564</td>\n",
       "      <td>54</td>\n",
       "      <td>.</td>\n",
       "      <td>+</td>\n",
       "      <td>2</td>\n",
       "      <td>translation_cycles=1;length=87</td>\n",
       "    </tr>\n",
       "    <tr>\n",
       "      <th>5512</th>\n",
       "      <td>TC-hsa-BCORL1_0009</td>\n",
       "      <td>TransCirc v1.0</td>\n",
       "      <td>cORF</td>\n",
       "      <td>27</td>\n",
       "      <td>26</td>\n",
       "      <td>.</td>\n",
       "      <td>+</td>\n",
       "      <td>2</td>\n",
       "      <td>translation_cycles=3;length=1170</td>\n",
       "    </tr>\n",
       "  </tbody>\n",
       "</table>\n",
       "<p>5513 rows × 9 columns</p>\n",
       "</div>"
      ],
      "text/plain": [
       "                 seqname          source feature  start  end score strand  \\\n",
       "0       TC-hsa-SDF4_0002  TransCirc v1.0    cORF     41   11     .      +   \n",
       "1       TC-hsa-SDF4_0002  TransCirc v1.0    cORF    204   18     .      +   \n",
       "2       TC-hsa-NADK_0011  TransCirc v1.0    cORF     41   40     .      +   \n",
       "3      TC-hsa-USP48_0035  TransCirc v1.0    cORF    184   58     .      +   \n",
       "4      TC-hsa-USP48_0035  TransCirc v1.0    cORF    111  111     .      +   \n",
       "...                  ...             ...     ...    ...  ...   ...    ...   \n",
       "5508    TC-hsa-DKC1_0007  TransCirc v1.0    cORF     87   15     .      +   \n",
       "5509    TC-hsa-MPP1_0012  TransCirc v1.0    cORF     37   36     .      +   \n",
       "5510  TC-hsa-UTP14A_0010  TransCirc v1.0    cORF    119   17     .      +   \n",
       "5511  TC-hsa-UTP14A_0010  TransCirc v1.0    cORF    564   54     .      +   \n",
       "5512  TC-hsa-BCORL1_0009  TransCirc v1.0    cORF     27   26     .      +   \n",
       "\n",
       "      frame                         attribute  \n",
       "0         1   translation_cycles=1;length=222  \n",
       "1         2    translation_cycles=1;length=66  \n",
       "2         1   translation_cycles=3;length=909  \n",
       "3         0    translation_cycles=1;length=87  \n",
       "4         2   translation_cycles=1;length=213  \n",
       "...     ...                               ...  \n",
       "5508      2   translation_cycles=1;length=204  \n",
       "5509      0  translation_cycles=3;length=1134  \n",
       "5510      1   translation_cycles=1;length=495  \n",
       "5511      2    translation_cycles=1;length=87  \n",
       "5512      2  translation_cycles=3;length=1170  \n",
       "\n",
       "[5513 rows x 9 columns]"
      ]
     },
     "execution_count": 9,
     "metadata": {},
     "output_type": "execute_result"
    }
   ],
   "source": [
    "# Creating GTF file\n",
    "libdata.create_gtf_file_TransCirc(circrnas_file, transcirc_orfs_file, gtf_file)\n",
    "\n",
    "df_gtf = pd.read_csv(gtf_file, sep='\\t', header=None)\n",
    "df_gtf.columns = libdata.get_gtf_columns()\n",
    "df_gtf"
   ]
  }
 ],
 "metadata": {
  "kernelspec": {
   "display_name": "circcodan_dev",
   "language": "python",
   "name": "python3"
  },
  "language_info": {
   "codemirror_mode": {
    "name": "ipython",
    "version": 3
   },
   "file_extension": ".py",
   "mimetype": "text/x-python",
   "name": "python",
   "nbconvert_exporter": "python",
   "pygments_lexer": "ipython3",
   "version": "3.7.16"
  },
  "orig_nbformat": 4
 },
 "nbformat": 4,
 "nbformat_minor": 2
}
