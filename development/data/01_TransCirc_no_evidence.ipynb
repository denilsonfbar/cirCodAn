{
 "cells": [
  {
   "cell_type": "markdown",
   "metadata": {},
   "source": [
    "### Creating a dataset with circRNAs without translations evidence from TransCirc database"
   ]
  },
  {
   "cell_type": "code",
   "execution_count": 1,
   "metadata": {},
   "outputs": [],
   "source": [
    "import sys\n",
    "sys.path.append('../')\n",
    "\n",
    "from lib import libdata\n",
    "import numpy as np\n",
    "import pandas as pd"
   ]
  },
  {
   "cell_type": "code",
   "execution_count": 2,
   "metadata": {},
   "outputs": [],
   "source": [
    "# Input files\n",
    "transcirc_metadata_file = 'TransCirc/transcirc_metadata.tsv.gz'\n",
    "transcirc_circrnas_file = 'TransCirc/transcirc_sequence.fa.bgz'\n",
    "\n",
    "# Output files\n",
    "circrnas_file = libdata.CIRCODAN_PATH + 'datasets/01_TransCirc_no_evidence_hsa.fa'\n",
    "gtf_file = libdata.CIRCODAN_PATH + 'datasets/01_TransCirc_no_evidence_hsa.gtf'"
   ]
  },
  {
   "cell_type": "code",
   "execution_count": 3,
   "metadata": {},
   "outputs": [
    {
     "data": {
      "text/plain": [
       "(328080, 19)"
      ]
     },
     "execution_count": 3,
     "metadata": {},
     "output_type": "execute_result"
    }
   ],
   "source": [
    "# All circRNAs\n",
    "df_tc = pd.read_csv(transcirc_metadata_file, sep='\\t', compression='gzip')\n",
    "df_tc.shape"
   ]
  },
  {
   "cell_type": "code",
   "execution_count": 4,
   "metadata": {},
   "outputs": [
    {
     "data": {
      "text/plain": [
       "(1143, 19)"
      ]
     },
     "execution_count": 4,
     "metadata": {},
     "output_type": "execute_result"
    }
   ],
   "source": [
    "# circRNAs with no evidence\n",
    "df_negative = df_tc[df_tc['evidences_num'] == 0]\n",
    "df_negative.shape"
   ]
  },
  {
   "cell_type": "code",
   "execution_count": 5,
   "metadata": {},
   "outputs": [
    {
     "data": {
      "text/plain": [
       "1143"
      ]
     },
     "execution_count": 5,
     "metadata": {},
     "output_type": "execute_result"
    }
   ],
   "source": [
    "# Creating FASTA file with selected circRNAs\n",
    "circ_ids = np.array(df_negative['TransCirc_ID'])\n",
    "libdata.create_fasta_file_TransCirc(circ_ids, transcirc_circrnas_file, circrnas_file)\n",
    "libdata.count_sequences_in_file(circrnas_file)"
   ]
  },
  {
   "cell_type": "code",
   "execution_count": 6,
   "metadata": {},
   "outputs": [
    {
     "data": {
      "text/plain": [
       "732"
      ]
     },
     "execution_count": 6,
     "metadata": {},
     "output_type": "execute_result"
    }
   ],
   "source": [
    "# Removing repeated sequences\n",
    "n_unique_seqs = libdata.remove_repeated_sequences_in_file(circrnas_file)\n",
    "n_unique_seqs"
   ]
  },
  {
   "cell_type": "code",
   "execution_count": 7,
   "metadata": {},
   "outputs": [],
   "source": [
    "# Creating a empty GTF file\n",
    "ls_gtf = [['.','.','.','.','.','.','.','.','.']]\n",
    "df_gtf = pd.DataFrame(ls_gtf)\n",
    "df_gtf.to_csv(gtf_file, sep='\\t', index=False, header=False)"
   ]
  }
 ],
 "metadata": {
  "kernelspec": {
   "display_name": "circcodan_dev",
   "language": "python",
   "name": "python3"
  },
  "language_info": {
   "codemirror_mode": {
    "name": "ipython",
    "version": 3
   },
   "file_extension": ".py",
   "mimetype": "text/x-python",
   "name": "python",
   "nbconvert_exporter": "python",
   "pygments_lexer": "ipython3",
   "version": "3.7.16"
  },
  "orig_nbformat": 4
 },
 "nbformat": 4,
 "nbformat_minor": 2
}
