{
 "cells": [
  {
   "cell_type": "code",
   "execution_count": 1,
   "metadata": {},
   "outputs": [],
   "source": [
    "import sys\n",
    "sys.path.append('../')\n",
    "\n",
    "from lib import libdata\n",
    "from lib import libcc_dev as libcc\n",
    "import os\n",
    "import shutil"
   ]
  },
  {
   "cell_type": "code",
   "execution_count": 2,
   "metadata": {},
   "outputs": [],
   "source": [
    "replicateds_path = libdata.CIRCODAN_PATH + 'datasets/replicateds/'\n",
    "\n",
    "for n_replications in range(1, 4):\n",
    "\n",
    "    dataset_path = replicateds_path + 'n_reps_' + str(n_replications)\n",
    "    os.mkdir(dataset_path)\n",
    "\n",
    "    file_names = libcc.get_all_input_files_name()\n",
    "\n",
    "    for file_name in file_names:\n",
    "\n",
    "        libdata.replicate_sequences_in_file(n_replications, libdata.CIRCODAN_PATH + 'datasets/' + file_name, dataset_path + '/' + file_name)\n",
    "\n",
    "        gtf_file = file_name.replace('.fa', '.gtf')\n",
    "        shutil.copy(libdata.CIRCODAN_PATH + 'datasets/' + gtf_file, dataset_path + '/' + gtf_file)"
   ]
  }
 ],
 "metadata": {
  "kernelspec": {
   "display_name": "circcodan_dev",
   "language": "python",
   "name": "python3"
  },
  "language_info": {
   "codemirror_mode": {
    "name": "ipython",
    "version": 3
   },
   "file_extension": ".py",
   "mimetype": "text/x-python",
   "name": "python",
   "nbconvert_exporter": "python",
   "pygments_lexer": "ipython3",
   "version": "3.7.16"
  },
  "orig_nbformat": 4
 },
 "nbformat": 4,
 "nbformat_minor": 2
}
