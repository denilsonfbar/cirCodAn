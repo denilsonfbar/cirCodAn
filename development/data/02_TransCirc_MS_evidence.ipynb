{
 "cells": [
  {
   "cell_type": "markdown",
   "metadata": {},
   "source": [
    "### Creating a dataset with circRNAs with translations evidence by proteomics mass spectrometry from TransCirc database"
   ]
  },
  {
   "cell_type": "code",
   "execution_count": 1,
   "metadata": {},
   "outputs": [],
   "source": [
    "import sys\n",
    "sys.path.append('../')\n",
    "\n",
    "from lib import libdata\n",
    "import numpy as np\n",
    "import pandas as pd"
   ]
  },
  {
   "cell_type": "code",
   "execution_count": 2,
   "metadata": {},
   "outputs": [],
   "source": [
    "# Input files\n",
    "transcirc_metadata_file = 'TransCirc/transcirc_metadata.tsv.gz'\n",
    "transcirc_circrnas_file = 'TransCirc/transcirc_sequence.fa.bgz'\n",
    "transcirc_orfs_file = 'TransCirc/transcirc_orf_na.fa.bgz'\n",
    "\n",
    "# Output files\n",
    "circrnas_file = libdata.CIRCODAN_PATH + 'datasets/02_TransCirc_MS_evidence_hsa.fa'\n",
    "gtf_file = libdata.CIRCODAN_PATH + 'datasets/02_TransCirc_MS_evidence_hsa.gtf'"
   ]
  },
  {
   "cell_type": "code",
   "execution_count": 3,
   "metadata": {},
   "outputs": [
    {
     "data": {
      "text/plain": [
       "(328080, 19)"
      ]
     },
     "execution_count": 3,
     "metadata": {},
     "output_type": "execute_result"
    }
   ],
   "source": [
    "# All circRNAs\n",
    "df_tc = pd.read_csv(transcirc_metadata_file, sep='\\t', compression='gzip')\n",
    "df_tc.shape"
   ]
  },
  {
   "cell_type": "code",
   "execution_count": 4,
   "metadata": {},
   "outputs": [
    {
     "data": {
      "text/plain": [
       "(305016, 19)"
      ]
     },
     "execution_count": 4,
     "metadata": {},
     "output_type": "execute_result"
    }
   ],
   "source": [
    "# Removing circRNAs that not have ORF annotation\n",
    "df_tc.drop(df_tc[df_tc['ORF'] == 0].index, axis=0, inplace=True)\n",
    "df_tc.shape"
   ]
  },
  {
   "cell_type": "code",
   "execution_count": 5,
   "metadata": {},
   "outputs": [
    {
     "data": {
      "text/plain": [
       "(167, 19)"
      ]
     },
     "execution_count": 5,
     "metadata": {},
     "output_type": "execute_result"
    }
   ],
   "source": [
    "# Removing circRNAs that not have MS evidence\n",
    "df_tc.drop(df_tc[(df_tc['MS'] == 0)].index, axis=0, inplace=True)\n",
    "df_tc.shape"
   ]
  },
  {
   "cell_type": "code",
   "execution_count": 6,
   "metadata": {},
   "outputs": [
    {
     "data": {
      "text/plain": [
       "(165, 19)"
      ]
     },
     "execution_count": 6,
     "metadata": {},
     "output_type": "execute_result"
    }
   ],
   "source": [
    "# Removing circRNAs that have RP/PP evidence\n",
    "df_tc.drop(df_tc[(df_tc['RP/RP'] != 0)].index, axis=0, inplace=True)\n",
    "df_tc.shape"
   ]
  },
  {
   "cell_type": "code",
   "execution_count": 7,
   "metadata": {},
   "outputs": [
    {
     "data": {
      "text/plain": [
       "165"
      ]
     },
     "execution_count": 7,
     "metadata": {},
     "output_type": "execute_result"
    }
   ],
   "source": [
    "# Creating FASTA file with selected circRNAs\n",
    "circ_ids = np.array(df_tc['TransCirc_ID'])\n",
    "libdata.create_fasta_file_TransCirc(circ_ids, transcirc_circrnas_file, circrnas_file)\n",
    "libdata.count_sequences_in_file(circrnas_file)"
   ]
  },
  {
   "cell_type": "code",
   "execution_count": 8,
   "metadata": {},
   "outputs": [
    {
     "data": {
      "text/plain": [
       "137"
      ]
     },
     "execution_count": 8,
     "metadata": {},
     "output_type": "execute_result"
    }
   ],
   "source": [
    "# Removing repeated sequences\n",
    "n_unique_seqs = libdata.remove_repeated_sequences_in_file(circrnas_file)\n",
    "n_unique_seqs"
   ]
  },
  {
   "cell_type": "code",
   "execution_count": 9,
   "metadata": {},
   "outputs": [
    {
     "data": {
      "text/html": [
       "<div>\n",
       "<style scoped>\n",
       "    .dataframe tbody tr th:only-of-type {\n",
       "        vertical-align: middle;\n",
       "    }\n",
       "\n",
       "    .dataframe tbody tr th {\n",
       "        vertical-align: top;\n",
       "    }\n",
       "\n",
       "    .dataframe thead th {\n",
       "        text-align: right;\n",
       "    }\n",
       "</style>\n",
       "<table border=\"1\" class=\"dataframe\">\n",
       "  <thead>\n",
       "    <tr style=\"text-align: right;\">\n",
       "      <th></th>\n",
       "      <th>seqname</th>\n",
       "      <th>source</th>\n",
       "      <th>feature</th>\n",
       "      <th>start</th>\n",
       "      <th>end</th>\n",
       "      <th>score</th>\n",
       "      <th>strand</th>\n",
       "      <th>frame</th>\n",
       "      <th>attribute</th>\n",
       "    </tr>\n",
       "  </thead>\n",
       "  <tbody>\n",
       "    <tr>\n",
       "      <th>0</th>\n",
       "      <td>TC-hsa-CLSTN1_0036</td>\n",
       "      <td>TransCirc v1.0</td>\n",
       "      <td>cORF</td>\n",
       "      <td>21</td>\n",
       "      <td>4</td>\n",
       "      <td>.</td>\n",
       "      <td>+</td>\n",
       "      <td>2</td>\n",
       "      <td>translation_cycles=1;length=333</td>\n",
       "    </tr>\n",
       "    <tr>\n",
       "      <th>1</th>\n",
       "      <td>TC-hsa-GNB1_0007</td>\n",
       "      <td>TransCirc v1.0</td>\n",
       "      <td>cORF</td>\n",
       "      <td>124</td>\n",
       "      <td>23</td>\n",
       "      <td>.</td>\n",
       "      <td>+</td>\n",
       "      <td>0</td>\n",
       "      <td>translation_cycles=1;length=156</td>\n",
       "    </tr>\n",
       "    <tr>\n",
       "      <th>2</th>\n",
       "      <td>TC-hsa-GNB1_0007</td>\n",
       "      <td>TransCirc v1.0</td>\n",
       "      <td>cORF</td>\n",
       "      <td>150</td>\n",
       "      <td>127</td>\n",
       "      <td>.</td>\n",
       "      <td>+</td>\n",
       "      <td>2</td>\n",
       "      <td>translation_cycles=1;length=234</td>\n",
       "    </tr>\n",
       "    <tr>\n",
       "      <th>3</th>\n",
       "      <td>TC-hsa-MACF1_0262</td>\n",
       "      <td>TransCirc v1.0</td>\n",
       "      <td>cORF</td>\n",
       "      <td>73</td>\n",
       "      <td>4</td>\n",
       "      <td>.</td>\n",
       "      <td>+</td>\n",
       "      <td>0</td>\n",
       "      <td>translation_cycles=1;length=1233</td>\n",
       "    </tr>\n",
       "    <tr>\n",
       "      <th>4</th>\n",
       "      <td>TC-hsa-MACF1_0270</td>\n",
       "      <td>TransCirc v1.0</td>\n",
       "      <td>cORF</td>\n",
       "      <td>833</td>\n",
       "      <td>48</td>\n",
       "      <td>.</td>\n",
       "      <td>+</td>\n",
       "      <td>1</td>\n",
       "      <td>translation_cycles=1;length=3975</td>\n",
       "    </tr>\n",
       "    <tr>\n",
       "      <th>...</th>\n",
       "      <td>...</td>\n",
       "      <td>...</td>\n",
       "      <td>...</td>\n",
       "      <td>...</td>\n",
       "      <td>...</td>\n",
       "      <td>...</td>\n",
       "      <td>...</td>\n",
       "      <td>...</td>\n",
       "      <td>...</td>\n",
       "    </tr>\n",
       "    <tr>\n",
       "      <th>198</th>\n",
       "      <td>TC-hsa-UBA1_0019</td>\n",
       "      <td>TransCirc v1.0</td>\n",
       "      <td>cORF</td>\n",
       "      <td>547</td>\n",
       "      <td>4</td>\n",
       "      <td>.</td>\n",
       "      <td>+</td>\n",
       "      <td>0</td>\n",
       "      <td>translation_cycles=2;length=612</td>\n",
       "    </tr>\n",
       "    <tr>\n",
       "      <th>199</th>\n",
       "      <td>TC-hsa-UBA1_0019</td>\n",
       "      <td>TransCirc v1.0</td>\n",
       "      <td>cORF</td>\n",
       "      <td>66</td>\n",
       "      <td>4</td>\n",
       "      <td>.</td>\n",
       "      <td>+</td>\n",
       "      <td>2</td>\n",
       "      <td>translation_cycles=1;length=516</td>\n",
       "    </tr>\n",
       "    <tr>\n",
       "      <th>200</th>\n",
       "      <td>TC-hsa-USP9X_0058</td>\n",
       "      <td>TransCirc v1.0</td>\n",
       "      <td>cORF</td>\n",
       "      <td>193</td>\n",
       "      <td>192</td>\n",
       "      <td>.</td>\n",
       "      <td>+</td>\n",
       "      <td>0</td>\n",
       "      <td>translation_cycles=3;length=7110</td>\n",
       "    </tr>\n",
       "    <tr>\n",
       "      <th>201</th>\n",
       "      <td>TC-hsa-OCRL_0024</td>\n",
       "      <td>TransCirc v1.0</td>\n",
       "      <td>cORF</td>\n",
       "      <td>56</td>\n",
       "      <td>12</td>\n",
       "      <td>.</td>\n",
       "      <td>+</td>\n",
       "      <td>1</td>\n",
       "      <td>translation_cycles=1;length=999</td>\n",
       "    </tr>\n",
       "    <tr>\n",
       "      <th>202</th>\n",
       "      <td>TC-hsa-OCRL_0024</td>\n",
       "      <td>TransCirc v1.0</td>\n",
       "      <td>cORF</td>\n",
       "      <td>1017</td>\n",
       "      <td>12</td>\n",
       "      <td>.</td>\n",
       "      <td>+</td>\n",
       "      <td>2</td>\n",
       "      <td>translation_cycles=2;length=1080</td>\n",
       "    </tr>\n",
       "  </tbody>\n",
       "</table>\n",
       "<p>203 rows × 9 columns</p>\n",
       "</div>"
      ],
      "text/plain": [
       "                seqname          source feature  start  end score strand  \\\n",
       "0    TC-hsa-CLSTN1_0036  TransCirc v1.0    cORF     21    4     .      +   \n",
       "1      TC-hsa-GNB1_0007  TransCirc v1.0    cORF    124   23     .      +   \n",
       "2      TC-hsa-GNB1_0007  TransCirc v1.0    cORF    150  127     .      +   \n",
       "3     TC-hsa-MACF1_0262  TransCirc v1.0    cORF     73    4     .      +   \n",
       "4     TC-hsa-MACF1_0270  TransCirc v1.0    cORF    833   48     .      +   \n",
       "..                  ...             ...     ...    ...  ...   ...    ...   \n",
       "198    TC-hsa-UBA1_0019  TransCirc v1.0    cORF    547    4     .      +   \n",
       "199    TC-hsa-UBA1_0019  TransCirc v1.0    cORF     66    4     .      +   \n",
       "200   TC-hsa-USP9X_0058  TransCirc v1.0    cORF    193  192     .      +   \n",
       "201    TC-hsa-OCRL_0024  TransCirc v1.0    cORF     56   12     .      +   \n",
       "202    TC-hsa-OCRL_0024  TransCirc v1.0    cORF   1017   12     .      +   \n",
       "\n",
       "     frame                         attribute  \n",
       "0        2   translation_cycles=1;length=333  \n",
       "1        0   translation_cycles=1;length=156  \n",
       "2        2   translation_cycles=1;length=234  \n",
       "3        0  translation_cycles=1;length=1233  \n",
       "4        1  translation_cycles=1;length=3975  \n",
       "..     ...                               ...  \n",
       "198      0   translation_cycles=2;length=612  \n",
       "199      2   translation_cycles=1;length=516  \n",
       "200      0  translation_cycles=3;length=7110  \n",
       "201      1   translation_cycles=1;length=999  \n",
       "202      2  translation_cycles=2;length=1080  \n",
       "\n",
       "[203 rows x 9 columns]"
      ]
     },
     "execution_count": 9,
     "metadata": {},
     "output_type": "execute_result"
    }
   ],
   "source": [
    "# Creating GTF file\n",
    "libdata.create_gtf_file_TransCirc(circrnas_file, transcirc_orfs_file, gtf_file)\n",
    "\n",
    "df_gtf = pd.read_csv(gtf_file, sep='\\t', header=None)\n",
    "df_gtf.columns = libdata.get_gtf_columns()\n",
    "df_gtf"
   ]
  }
 ],
 "metadata": {
  "kernelspec": {
   "display_name": "circcodan_dev",
   "language": "python",
   "name": "python3"
  },
  "language_info": {
   "codemirror_mode": {
    "name": "ipython",
    "version": 3
   },
   "file_extension": ".py",
   "mimetype": "text/x-python",
   "name": "python",
   "nbconvert_exporter": "python",
   "pygments_lexer": "ipython3",
   "version": "3.7.16"
  },
  "orig_nbformat": 4
 },
 "nbformat": 4,
 "nbformat_minor": 2
}
